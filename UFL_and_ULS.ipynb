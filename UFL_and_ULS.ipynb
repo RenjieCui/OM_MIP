{
  "nbformat": 4,
  "nbformat_minor": 0,
  "metadata": {
    "colab": {
      "provenance": [],
      "include_colab_link": true
    },
    "kernelspec": {
      "name": "python3",
      "display_name": "Python 3"
    },
    "language_info": {
      "name": "python"
    }
  },
  "cells": [
    {
      "cell_type": "markdown",
      "metadata": {
        "id": "view-in-github",
        "colab_type": "text"
      },
      "source": [
        "<a href=\"https://colab.research.google.com/github/RenjieCui/OM_MIP/blob/main/UFL_and_ULS.ipynb\" target=\"_parent\"><img src=\"https://colab.research.google.com/assets/colab-badge.svg\" alt=\"Open In Colab\"/></a>"
      ]
    },
    {
      "cell_type": "code",
      "execution_count": null,
      "metadata": {
        "colab": {
          "base_uri": "https://localhost:8080/"
        },
        "id": "94wGanV5m0Nl",
        "outputId": "6995721a-a385-4267-9726-e6fd44102c25"
      },
      "outputs": [
        {
          "output_type": "stream",
          "name": "stdout",
          "text": [
            "Collecting cplex\n",
            "  Downloading cplex-22.1.1.0-cp310-cp310-manylinux1_x86_64.whl (44.2 MB)\n",
            "\u001b[2K     \u001b[90m━━━━━━━━━━━━━━━━━━━━━━━━━━━━━━━━━━━━━━━━\u001b[0m \u001b[32m44.2/44.2 MB\u001b[0m \u001b[31m17.3 MB/s\u001b[0m eta \u001b[36m0:00:00\u001b[0m\n",
            "\u001b[?25hInstalling collected packages: cplex\n",
            "Successfully installed cplex-22.1.1.0\n",
            "Collecting docplex\n",
            "  Downloading docplex-2.25.236.tar.gz (633 kB)\n",
            "\u001b[2K     \u001b[90m━━━━━━━━━━━━━━━━━━━━━━━━━━━━━━━━━━━━━━━\u001b[0m \u001b[32m633.5/633.5 kB\u001b[0m \u001b[31m8.1 MB/s\u001b[0m eta \u001b[36m0:00:00\u001b[0m\n",
            "\u001b[?25h  Preparing metadata (setup.py) ... \u001b[?25l\u001b[?25hdone\n",
            "Requirement already satisfied: six in /usr/local/lib/python3.10/dist-packages (from docplex) (1.16.0)\n",
            "Building wheels for collected packages: docplex\n",
            "  Building wheel for docplex (setup.py) ... \u001b[?25l\u001b[?25hdone\n",
            "  Created wheel for docplex: filename=docplex-2.25.236-py3-none-any.whl size=671349 sha256=9aba932c66f017cdfeea7f384059ed986eb6a480d2ceaa0b3bafee2559117c97\n",
            "  Stored in directory: /root/.cache/pip/wheels/3b/e5/00/0bf0173d67188fe73a13e3a61412b3f975f60205e3fab93a69\n",
            "Successfully built docplex\n",
            "Installing collected packages: docplex\n",
            "Successfully installed docplex-2.25.236\n"
          ]
        }
      ],
      "source": [
        "#import libraries\n",
        "import numpy as np\n",
        "import cvxpy as cp\n",
        "import time\n",
        "import matplotlib.pyplot as plt\n",
        "import itertools\n",
        "import sys\n",
        "import random\n",
        "\n",
        "!pip install cplex\n",
        "!pip install docplex\n",
        "from docplex.mp.model import Model"
      ]
    },
    {
      "cell_type": "code",
      "source": [],
      "metadata": {
        "id": "1rkM4qYgm3iW"
      },
      "execution_count": null,
      "outputs": []
    },
    {
      "cell_type": "code",
      "source": [
        "#big M model\n",
        "ind = 0 # if (ind == 0), then we solve the original problem; if (ind == 1), then we solve its lp relaxation\n",
        "\n",
        "def solve_UFL_1(m, n, f, c, ind):\n",
        "  UFL_model = Model('UFL 1')\n",
        "\n",
        "  x = []\n",
        "  if (ind == 0):\n",
        "    x = UFL_model.binary_var_list(n, name=\"x\")\n",
        "  if (ind == 1):\n",
        "    x = UFL_model.continuous_var_list(n, name=\"x\")\n",
        "\n",
        "  y = UFL_model.continuous_var_matrix(m, n, name=\"y\")\n",
        "\n",
        "  #objective function\n",
        "  obj_fn = sum(f[i]*x[i] for i in range(n)) + sum(sum(c[i, j]*y[i, j] for i in range(m)) for j in range(n))\n",
        "  UFL_model.set_objective(\"min\", obj_fn)\n",
        "\n",
        "  #constraints\n",
        "  for i in range(m):\n",
        "    UFL_model.add_constraint(sum(y[i, j] for j in range(n)) == 1)\n",
        "\n",
        "  for i in range(m):\n",
        "    for j in range(n):\n",
        "      UFL_model.add_constraint(y[i, j] >= 0)\n",
        "\n",
        "  if (ind == 1):\n",
        "    for j in range(n):\n",
        "      UFL_model.add_constraint(x[j] >= 0)\n",
        "      UFL_model.add_constraint(x[j] <= 1)\n",
        "\n",
        "  for j in range(n):\n",
        "    UFL_model.add_constraint(sum(y[i, j] for i in range(m)) <= m*x[j])\n",
        "\n",
        "  sol = UFL_model.solve()\n",
        "\n",
        "  if sol is None:\n",
        "    print(\"Infeasible\")\n",
        "\n",
        "  obj_opt = UFL_model.solution.get_objective_value()\n",
        "  return obj_opt"
      ],
      "metadata": {
        "id": "JWRqHs24nm8C"
      },
      "execution_count": null,
      "outputs": []
    },
    {
      "cell_type": "code",
      "source": [
        "#modified model\n",
        "ind = 0 # if (ind == 0), then we solve the original problem; if (ind == 1), then we solve its lp relaxation\n",
        "\n",
        "def solve_UFL_2(m, n, f, c, ind):\n",
        "  UFL_model = Model('UFL 2')\n",
        "\n",
        "  x = []\n",
        "  if (ind == 0):\n",
        "    x = UFL_model.binary_var_list(n, name=\"x\")\n",
        "  if (ind == 1):\n",
        "    x = UFL_model.continuous_var_list(n, name=\"x\")\n",
        "\n",
        "  y = UFL_model.continuous_var_matrix(m, n, name=\"y\")\n",
        "\n",
        "  #objective function\n",
        "  obj_fn = sum(f[i]*x[i] for i in range(n)) + sum(sum(c[i, j]*y[i, j] for i in range(m)) for j in range(n))\n",
        "  UFL_model.set_objective(\"min\", obj_fn)\n",
        "\n",
        "  #old constraints\n",
        "  for i in range(m):\n",
        "    UFL_model.add_constraint(sum(y[i, j] for j in range(n)) == 1)\n",
        "\n",
        "  for i in range(m):\n",
        "    for j in range(n):\n",
        "      UFL_model.add_constraint(y[i, j] >= 0)\n",
        "\n",
        "  if (ind == 1):\n",
        "    for j in range(n):\n",
        "      UFL_model.add_constraint(x[j] >= 0)\n",
        "      UFL_model.add_constraint(x[j] <= 1)\n",
        "\n",
        "  #modified constraints\n",
        "  for i in range(m):\n",
        "    for j in range(n):\n",
        "      UFL_model.add_constraint(y[i, j] <= x[j])\n",
        "\n",
        "  sol = UFL_model.solve()\n",
        "\n",
        "  if sol is None:\n",
        "    print(\"Infeasible\")\n",
        "\n",
        "  obj_opt = UFL_model.solution.get_objective_value()\n",
        "  return obj_opt"
      ],
      "metadata": {
        "id": "VOITCKtcAiPr"
      },
      "execution_count": null,
      "outputs": []
    },
    {
      "cell_type": "code",
      "source": [
        "# Models for UFL\n",
        "# Parameters generation\n",
        "n = 10 #number of depots\n",
        "m = 10 #number of clients\n",
        "\n",
        "average_quality_1 = 0\n",
        "average_quality_2 = 0\n",
        "\n",
        "# 100 experiments\n",
        "num_exp = 100\n",
        "\n",
        "for k in range(num_exp):\n",
        "  f = np.zeros(n) #costs of using (opening) depots\n",
        "  for i in range(n):\n",
        "    f[i] = random.randint(1,100)\n",
        "\n",
        "  c = np.zeros((m, n)) #transportion costs from clients to depots\n",
        "  for i in range(m):\n",
        "    for j in range(n):\n",
        "      c[i, j] = random.randint(1,100)\n",
        "\n",
        "  #print(f)\n",
        "  #print(c)\n",
        "\n",
        "  obj_opt_1 = solve_UFL_1(m, n, f, c, 0)\n",
        "  obj_opt_relaxed_1 = solve_UFL_1(m, n, f, c, 1)\n",
        "\n",
        "  obj_opt_2 = solve_UFL_2(m, n, f, c, 0)\n",
        "  obj_opt_relaxed_2 = solve_UFL_2(m, n, f, c, 1)\n",
        "\n",
        "  average_quality_1 += obj_opt_1 / obj_opt_relaxed_1 /num_exp\n",
        "  average_quality_2 += obj_opt_2 / obj_opt_relaxed_2 /num_exp\n",
        "\n",
        "print(average_quality_1, average_quality_2)"
      ],
      "metadata": {
        "colab": {
          "base_uri": "https://localhost:8080/"
        },
        "id": "QxEgVRSNwjow",
        "outputId": "6c0f6913-9d82-4646-fa6c-b3e2ebc05a18"
      },
      "execution_count": null,
      "outputs": [
        {
          "output_type": "stream",
          "name": "stdout",
          "text": [
            "1.806885312260875 1.0012383410991477\n"
          ]
        }
      ]
    },
    {
      "cell_type": "code",
      "source": [
        "#ULS model 1\n",
        "ind = 0 # if (ind == 0), then we solve the original problem; if (ind == 1), then we solve its lp relaxation\n",
        "\n",
        "def solve_ULS_1(f, p, h, d, M, ind):\n",
        "  ULS_model = Model('ULS 1')\n",
        "\n",
        "  x = [] #x_t = 1 if production occurs in t, and x_t = 0 otherwise.\n",
        "  if (ind == 0):\n",
        "    x = ULS_model.binary_var_list(n, name=\"x\")\n",
        "  if (ind == 1):\n",
        "    x = ULS_model.continuous_var_list(n, name=\"x\")\n",
        "\n",
        "  y = ULS_model.continuous_var_list(n, name=\"y\") #the amount produced in period t\n",
        "  s = ULS_model.continuous_var_list(n + 1, name=\"s\") #stock at the end of period t - 1\n",
        "\n",
        "  #objective function\n",
        "  obj_fn = sum(f[t]*x[t] for t in range(n)) + sum(p[t]*y[t] for t in range(n)) + sum(h[t]*s[t + 1] for t in range(n))\n",
        "  ULS_model.set_objective(\"min\", obj_fn)\n",
        "\n",
        "  #constraints\n",
        "  for t in range(n):\n",
        "    ULS_model.add_constraint(s[t] + y[t] == d[t] + s[t + 1])\n",
        "    ULS_model.add_constraint(y[t] <= M*x[t])\n",
        "\n",
        "  ULS_model.add_constraint(s[0] == 0)\n",
        "\n",
        "  for t in range(n):\n",
        "    ULS_model.add_constraint(y[t] >= 0)\n",
        "    ULS_model.add_constraint(s[t + 1] >= 0)\n",
        "\n",
        "  if (ind == 1):\n",
        "    for i in range(n):\n",
        "      ULS_model.add_constraint(x[i] >= 0)\n",
        "      ULS_model.add_constraint(x[i] <= 1)\n",
        "\n",
        "  sol = ULS_model.solve()\n",
        "\n",
        "  if sol is None:\n",
        "    print(\"Infeasible\")\n",
        "\n",
        "  obj_opt = ULS_model.solution.get_objective_value()\n",
        "\n",
        "  #if (ind == 0):\n",
        "  #  print(\"Model 2:\", ULS_model.solution.get_values(x))\n",
        "  return obj_opt"
      ],
      "metadata": {
        "id": "ieTZO8x4w60Q"
      },
      "execution_count": null,
      "outputs": []
    },
    {
      "cell_type": "code",
      "source": [
        "#ULS model extended\n",
        "ind = 0 # if (ind == 0), then we solve the original problem; if (ind == 1), then we solve its lp relaxation\n",
        "\n",
        "def solve_ULS_2(f, p, h, d, ind):\n",
        "  ULS_model = Model('ULS 2')\n",
        "\n",
        "  x = [] #x_t = 1 if production occurs in t, and x_t = 0 otherwise.\n",
        "  if (ind == 0):\n",
        "    x = ULS_model.binary_var_list(n, name=\"x\")\n",
        "  if (ind == 1):\n",
        "    x = ULS_model.continuous_var_list(n, name=\"x\")\n",
        "\n",
        "  #y = ULS_model.continuous_var_list(n, name=\"y\") #the amount produced in period t\n",
        "  #s = ULS_model.continuous_var_list(n + 1, name=\"s\") #stock at the end of period t\n",
        "\n",
        "  w = ULS_model.continuous_var_matrix(n, n, name=\"w\") #the amount produced in period i to satisfy demand in period t\n",
        "\n",
        "  c = np.zeros(n) #modified costs\n",
        "  for t in range(n):\n",
        "    c[t] = p[t] + sum(h[i] for i in range(t, n))\n",
        "\n",
        "  #objective function\n",
        "  K = sum(sum(d[i]*h[t] for i in range(t + 1)) for t in range(n))\n",
        "  obj_fn = sum(f[t]*x[t] for t in range(n)) + sum(sum(c[i]*w[i, t] for t in range(i, n)) for i in range(n)) - K\n",
        "  ULS_model.set_objective(\"min\", obj_fn)\n",
        "\n",
        "  #constraints\n",
        "  for t in range(n):\n",
        "    ULS_model.add_constraint(sum(w[i, t] for i in range(t + 1)) == d[t])\n",
        "    for i in range(n):\n",
        "      if (i <= t):\n",
        "        ULS_model.add_constraint(w[i, t] >= 0)\n",
        "        ULS_model.add_constraint(w[i, t] <= d[t]*x[i])\n",
        "\n",
        "  if (ind == 1):\n",
        "    for i in range(n):\n",
        "      ULS_model.add_constraint(x[i] >= 0)\n",
        "      ULS_model.add_constraint(x[i] <= 1)\n",
        "\n",
        "  sol = ULS_model.solve()\n",
        "\n",
        "  if sol is None:\n",
        "    print(\"Infeasible\")\n",
        "\n",
        "  obj_opt = ULS_model.solution.get_objective_value()\n",
        "\n",
        "  #if (ind == 0):\n",
        "  #  print(\"Model 2:\", ULS_model.solution.get_values(x))\n",
        "  return obj_opt"
      ],
      "metadata": {
        "id": "nfc3i-VP_AiL"
      },
      "execution_count": null,
      "outputs": []
    },
    {
      "cell_type": "code",
      "source": [],
      "metadata": {
        "id": "DvH-jDVVKott"
      },
      "execution_count": null,
      "outputs": []
    },
    {
      "cell_type": "code",
      "source": [
        "n = 5\n",
        "p = [10, 15, 12, 8, 10]  # Variable cost for each period\n",
        "h = [1, 1, 2, 1, 1]  # Storage cost for each period\n",
        "f = [100, 100, 100, 100, 100]  # Fixed cost for each period\n",
        "d = [20, 30, 25, 35, 30]  # Demand for each period\n",
        "\n",
        "solve_ULS_1(f, p, h, d, M=200, ind=0)"
      ],
      "metadata": {
        "colab": {
          "base_uri": "https://localhost:8080/"
        },
        "id": "Z7zAJUCyhiR_",
        "outputId": "ac846750-ecdd-4434-ea0d-1297c050499f"
      },
      "execution_count": null,
      "outputs": [
        {
          "output_type": "execute_result",
          "data": {
            "text/plain": [
              "1580.0"
            ]
          },
          "metadata": {},
          "execution_count": 21
        }
      ]
    },
    {
      "cell_type": "code",
      "source": [
        "solve_ULS_2(f, p, h, d, ind=0)"
      ],
      "metadata": {
        "colab": {
          "base_uri": "https://localhost:8080/"
        },
        "id": "gsi3k4g1iX5o",
        "outputId": "a8ff6d24-f086-4978-9585-e4ce9c8403bd"
      },
      "execution_count": null,
      "outputs": [
        {
          "output_type": "execute_result",
          "data": {
            "text/plain": [
              "1580.0"
            ]
          },
          "metadata": {},
          "execution_count": 9
        }
      ]
    },
    {
      "cell_type": "code",
      "source": [
        "solve_ULS_1(f, p, h, d, M=200, ind=1)"
      ],
      "metadata": {
        "colab": {
          "base_uri": "https://localhost:8080/"
        },
        "id": "au4rOXM3x1P8",
        "outputId": "563e0599-7706-4dfe-ad8a-6913a72c055e"
      },
      "execution_count": null,
      "outputs": [
        {
          "output_type": "execute_result",
          "data": {
            "text/plain": [
              "1450.0"
            ]
          },
          "metadata": {},
          "execution_count": 22
        }
      ]
    },
    {
      "cell_type": "code",
      "source": [
        "solve_ULS_2(f, p, h, d, ind=1)"
      ],
      "metadata": {
        "colab": {
          "base_uri": "https://localhost:8080/"
        },
        "id": "pslUiOO5x4tz",
        "outputId": "d68ca04e-631d-4043-d599-3c119677a478"
      },
      "execution_count": null,
      "outputs": [
        {
          "output_type": "execute_result",
          "data": {
            "text/plain": [
              "1580.0"
            ]
          },
          "metadata": {},
          "execution_count": 23
        }
      ]
    },
    {
      "cell_type": "code",
      "source": [
        "# Models for ULS\n",
        "# Parameters generation\n",
        "n = 10 #number of periods\n",
        "\n",
        "average_quality_1 = 0\n",
        "average_quality_2 = 0\n",
        "\n",
        "# 100 experiments\n",
        "num_exp = 100\n",
        "\n",
        "for k in range(num_exp):\n",
        "  f = np.zeros(n) #fixed costs of producing in period t\n",
        "  p = np.zeros(n) #unit production cost in period t\n",
        "  h = np.zeros(n) #unit storage cost in period t\n",
        "  d = np.zeros(n) #demands in period t\n",
        "\n",
        "  for t in range(n):\n",
        "    f[t] = random.randint(1,100)\n",
        "    p[t] = random.randint(1,100)\n",
        "    h[t] = random.randint(1,100)\n",
        "    d[t] = random.randint(1,100)\n",
        "\n",
        "  M = 1000\n",
        "  obj_opt_1 = solve_ULS_1(f, p, h, d, M, 0)\n",
        "  obj_opt_relaxed_1 = solve_ULS_1(f, p, h, d, M, 1)\n",
        "\n",
        "  obj_opt_2 = solve_ULS_2(f, p, h, d, 0)\n",
        "  obj_opt_relaxed_2 = solve_ULS_2(f, p, h, d, 1)\n",
        "\n",
        "  average_quality_1 += obj_opt_1 / obj_opt_relaxed_1 /num_exp\n",
        "  average_quality_2 += obj_opt_2 / obj_opt_relaxed_2 /num_exp\n",
        "\n",
        "print(average_quality_1, average_quality_2)"
      ],
      "metadata": {
        "colab": {
          "base_uri": "https://localhost:8080/"
        },
        "id": "etEpej8o_Aw7",
        "outputId": "4773af52-3e4a-4365-b6be-a7f87c7cf1c4"
      },
      "execution_count": null,
      "outputs": [
        {
          "output_type": "stream",
          "name": "stdout",
          "text": [
            "1.018682601394513 1.0000000000000007\n"
          ]
        }
      ]
    },
    {
      "cell_type": "code",
      "source": [
        "import gurobipy as gp\n",
        "from gurobipy import GRB\n",
        "\n",
        "def solve_lot_sizing_problem(n, p, h, f, d, lp_relaxation=False):\n",
        "    try:\n",
        "        # Create a Gurobi model\n",
        "        model = gp.Model(\"Lot_Sizing\")\n",
        "\n",
        "        # Define decision variables\n",
        "        x = model.addVars(n, vtype=GRB.BINARY if not lp_relaxation else GRB.CONTINUOUS, name=\"x\")\n",
        "        y = model.addVars(n, name=\"y\")\n",
        "        s = model.addVars(n+1, name=\"s\")\n",
        "        w = model.addVars(n, n, name=\"w\")\n",
        "\n",
        "        # Set the objective function\n",
        "        model.setObjective(\n",
        "            gp.quicksum(p[t] * y[t] + h[t] * s[t] + f[t] * x[t] for t in range(n)),\n",
        "            GRB.MINIMIZE\n",
        "        )\n",
        "\n",
        "        # Inventory balance constraints\n",
        "        model.addConstr(s[0] == 0)\n",
        "        for t in range(1, n+1):\n",
        "            model.addConstr(s[t-1] + y[t-1] == d[t-1] + s[t])\n",
        "\n",
        "        # Demand fulfillment constraints\n",
        "        for t in range(n):\n",
        "            model.addConstr(gp.quicksum(w[i, t] for i in range(t+1)) == d[t])\n",
        "\n",
        "        # w and x relationship constraints\n",
        "        for t in range(n):\n",
        "            for i in range(t+1):\n",
        "                model.addConstr(w[i, t] <= d[t] * x[t])\n",
        "                model.addConstr(w[i, t] >= 0)\n",
        "\n",
        "        # Define y_i as the sum of w_i,t for t in [i, n]\n",
        "        for i in range(n):\n",
        "            model.addConstr(y[i] == gp.quicksum(w[i, t] for t in range(i, n)))\n",
        "\n",
        "        # Solve the model\n",
        "        if lp_relaxation:\n",
        "            model.Params.Method = 1  # Use dual simplex for LP relaxation\n",
        "\n",
        "        model.Params.OutputFlag = 0  # Suppress Gurobi output\n",
        "        model.optimize()\n",
        "\n",
        "        # Check and return the results\n",
        "        if model.status == GRB.OPTIMAL:\n",
        "            order_quantities = [x[t].x for t in range(n)]\n",
        "            objective_value = model.objVal\n",
        "            return {\n",
        "                \"status\": \"Optimal\",\n",
        "                \"order_quantities\": order_quantities,\n",
        "                \"objective_value\": objective_value\n",
        "            }\n",
        "        else:\n",
        "            return {\"status\": \"No optimal solution found\"}\n",
        "\n",
        "    except gp.GurobiError as e:\n",
        "        print(f\"Gurobi Error: {e}\")\n",
        "        return {\"status\": \"Error\"}\n",
        "\n",
        "# Example usage\n",
        "n = 5\n",
        "p = [10, 12, 14, 11, 9]\n",
        "h = [1, 2, 2, 1, 3]\n",
        "f = [100, 120, 150, 180, 200]\n",
        "d = [50, 60, 40, 70, 30]\n",
        "\n",
        "# Solve using MILP\n",
        "result_milp = solve_lot_sizing_problem(n, p, h, f, d, lp_relaxation=False)\n",
        "if result_milp[\"status\"] == \"Optimal\":\n",
        "    print(\"MILP Solution Found:\")\n",
        "    print(\"Order Quantities (x):\", result_milp[\"order_quantities\"])\n",
        "    print(\"Objective Value:\", result_milp[\"objective_value\"])\n",
        "else:\n",
        "    print(\"No MILP optimal solution found.\")\n",
        "\n",
        "# Solve using LP relaxation\n",
        "result_lp_relax = solve_lot_sizing_problem(n, p, h, f, d, lp_relaxation=True)\n",
        "if result_lp_relax[\"status\"] == \"Optimal\":\n",
        "    print(\"\\nLP Relaxation Solution Found:\")\n",
        "    print(\"Order Quantities (x):\", result_lp_relax[\"order_quantities\"])\n",
        "    print(\"Objective Value:\", result_lp_relax[\"objective_value\"])\n",
        "else:\n",
        "    print(\"No LP relaxation optimal solution found.\")\n"
      ],
      "metadata": {
        "id": "CYU2mDKoHVZg"
      },
      "execution_count": null,
      "outputs": []
    },
    {
      "cell_type": "code",
      "source": [
        "# Uncapacitated Lot-Sizing under Extended Formulation\n",
        "# Parameters\n",
        "# p: unit production cost in period t\n",
        "# h: unit storage cost in period t\n",
        "# f: fixed cost in period t\n",
        "# d: demand in period t\n",
        "\n",
        "\n",
        "def solve_ULS_1(p, h, f, d, lp_relaxation=False):\n",
        "    try:\n",
        "        n = len(p)  # Planning horizon\n",
        "\n",
        "        # Create the model\n",
        "        model = gp.Model(\"Lot_Sizing_Extended\")\n",
        "\n",
        "        # Define decision variables\n",
        "        w = model.addVars(n, n, name=\"w\")\n",
        "        s = model.addVars(n+1, name=\"s\")\n",
        "        y = model.addVars(n, name=\"y\")\n",
        "        x = model.addVars(n, vtype=GRB.BINARY, name=\"x\")\n",
        "\n",
        "        # Set the objective function\n",
        "        model.setObjective(\n",
        "            gp.quicksum(p[t] * y[t] for t in range(n)) +\n",
        "            gp.quicksum(h[t] * s[t + 1] for t in range(n)) +\n",
        "            gp.quicksum(f[t] * x[t] for t in range(n)),\n",
        "            GRB.MINIMIZE\n",
        "        )\n",
        "\n",
        "        # Inventory balance constraints\n",
        "        model.addConstr(s[0] == 0) # Zero inital inventory constraint\n",
        "        for t in range(n):\n",
        "            model.addConstr(s[t] + y[t] == d[t] + s[t + 1])\n",
        "\n",
        "        for t in range(n):\n",
        "            model.addConstr(gp.quicksum(w[i, t] for i in range(t + 1)) == d[t])\n",
        "\n",
        "        # Upper-bound constraints\n",
        "        for t in range(n):\n",
        "            # model.addConstr(gp.quicksum(w[i, t] for i in range(t + 1)) == d[t])\n",
        "            for i in range(n):\n",
        "                if (i <= t):\n",
        "                    model.addConstr(w[i, t] >= 0)\n",
        "                    model.addConstr(w[i, t] <= d[t] * x[t])\n",
        "\n",
        "        # Production in future periods cannot be used to satisfy demand in past periods\n",
        "        # for i in range(n):\n",
        "        #     for t in range(i, n):\n",
        "        #         model.addConstr(w[i, t] >= 0)\n",
        "\n",
        "        for i in range(n):\n",
        "            model.addConstr(y[i] == gp.quicksum(w[i, t] for t in range(i, n)))\n",
        "                # model.addConstr(y[i] == gp.quicksum(w[i, t] for t in range(i, n)))\n",
        "\n",
        "        # LP relaxation\n",
        "        if lp_relaxation:\n",
        "            for t in range(n):\n",
        "                x[t].vtype = GRB.CONTINUOUS\n",
        "                model.addConstr(x[t] >= 0)\n",
        "                model.addConstr(x[t] <= 1)\n",
        "\n",
        "        # Solve the model\n",
        "        model.Params.OutputFlag = 0  # Suppress Gurobi output\n",
        "        # model.setParam(\"FeasibilityTol\", 10e-8)\n",
        "        model.setParam(\"OptimalityTol\", 1e-9)\n",
        "        model.optimize()\n",
        "\n",
        "\n",
        "        # Check for optimality\n",
        "        if model.status == GRB.OPTIMAL:\n",
        "            solution = {\n",
        "                \"x\": [x[t].x for t in range(n)],\n",
        "                \"y\": [y[t].x for t in range(n)],\n",
        "                \"s\": [s[t].x for t in range(n)],\n",
        "                \"total_cost\": model.objVal\n",
        "            }\n",
        "            return solution\n",
        "        else:\n",
        "            return None\n",
        "    except gp.GurobiError as e:\n",
        "        print(f\"Gurobi Error: {e}\")\n",
        "        return None"
      ],
      "metadata": {
        "id": "nQuj60lGKnHD"
      },
      "execution_count": null,
      "outputs": []
    }
  ]
}